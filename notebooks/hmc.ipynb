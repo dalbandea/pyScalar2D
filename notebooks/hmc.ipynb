{
 "cells": [
  {
   "cell_type": "code",
   "execution_count": 59,
   "metadata": {
    "ExecuteTime": {
     "end_time": "2022-03-09T17:49:38.229855Z",
     "start_time": "2022-03-09T17:49:38.216975Z"
    }
   },
   "outputs": [],
   "source": [
    "import autograd.numpy as np\n",
    "import copy\n",
    "from tqdm import tqdm\n",
    "from autograd import elementwise_grad\n",
    "\n",
    "%matplotlib inline\n",
    "import matplotlib.pyplot as plt\n",
    "import seaborn as sns\n",
    "sns.set_style('whitegrid')"
   ]
  },
  {
   "cell_type": "code",
   "execution_count": 83,
   "metadata": {
    "ExecuteTime": {
     "end_time": "2022-03-09T18:03:44.624734Z",
     "start_time": "2022-03-09T18:03:44.608930Z"
    }
   },
   "outputs": [],
   "source": [
    "def get_action(phi, k, l):\n",
    "    return np.sum(-2 * k * phi * (np.roll(phi, 1, 0) + np.roll(phi, 1, 1))\n",
    "                  + (1 - 2 * l) * phi**2 + l * phi**4)\n",
    "\n",
    "def get_drift(phi, k, l):\n",
    "    return (2 * k * (np.roll(phi, 1, 0) + np.roll(phi, -1, 0)\n",
    "                     + np.roll(phi, 1, 1) + np.roll(phi, -1, 1))\n",
    "            + 2 * phi * (2 * l * (1 - phi**2) - 1))\n",
    "\n",
    "def get_hamiltonian(chi, action):\n",
    "    return 0.5 * np.sum(chi**2) + action\n",
    "\n",
    "def current_action(phi):\n",
    "    return get_action(phi,1,1)\n",
    "\n",
    "get_action_grad = elementwise_grad(get_action)"
   ]
  },
  {
   "cell_type": "code",
   "execution_count": 82,
   "metadata": {
    "ExecuteTime": {
     "end_time": "2022-03-09T18:03:36.467476Z",
     "start_time": "2022-03-09T18:03:36.451485Z"
    }
   },
   "outputs": [
    {
     "data": {
      "text/plain": [
       "array([[ 0.38957749,  1.0729675 ,  1.00054859, ...,  0.77692629,\n",
       "         0.73948747,  0.3440029 ],\n",
       "       [-0.36902853, -2.04923207, -0.4565891 , ..., -2.23635608,\n",
       "         3.42814695,  1.36720652],\n",
       "       [-0.01294658,  1.66599162,  0.81488497, ..., -1.24683462,\n",
       "        -3.06813523,  1.04501729],\n",
       "       ...,\n",
       "       [ 1.03865786,  0.22625152, -1.44868516, ...,  1.83755799,\n",
       "         2.66692579,  1.10029058],\n",
       "       [-0.90573119, -2.81472248,  1.68557834, ..., -1.4285339 ,\n",
       "        -5.13290289,  3.0933839 ],\n",
       "       [ 0.33056245,  0.99563509,  3.75033015, ..., -1.27657473,\n",
       "         1.53484012,  0.0445339 ]])"
      ]
     },
     "execution_count": 82,
     "metadata": {},
     "output_type": "execute_result"
    }
   ],
   "source": [
    "get_action_grad(phi,k,l)"
   ]
  },
  {
   "cell_type": "code",
   "execution_count": 73,
   "metadata": {
    "ExecuteTime": {
     "end_time": "2022-03-09T17:52:41.996400Z",
     "start_time": "2022-03-09T17:52:41.979512Z"
    }
   },
   "outputs": [],
   "source": [
    "def hmc(phi_0, S_0, k, l, n_steps=100):\n",
    "    dt = 1 / n_steps\n",
    "\n",
    "    phi = phi_0\n",
    "    chi = np.random.randn(*phi.shape)\n",
    "    H_0 = get_hamiltonian(chi, S_0)\n",
    "\n",
    "    chi += 0.5 * dt * get_drift(phi, k, l)\n",
    "    for i in range(n_steps-1):\n",
    "        phi += dt * chi\n",
    "        chi -= dt * get_action_grad(phi, k, l)\n",
    "    phi += dt * chi\n",
    "    chi += 0.5 * dt * get_drift(phi, k, l)\n",
    "\n",
    "    S = get_action(phi, k, l)\n",
    "    dH = get_hamiltonian(chi, S) - H_0\n",
    "\n",
    "    if dH > 0:\n",
    "        if np.random.rand() >= np.exp(-dH):\n",
    "            return phi_0, S_0, False\n",
    "    return phi, S, True"
   ]
  },
  {
   "cell_type": "code",
   "execution_count": 70,
   "metadata": {
    "ExecuteTime": {
     "end_time": "2022-03-09T17:52:13.260724Z",
     "start_time": "2022-03-09T17:52:13.251360Z"
    }
   },
   "outputs": [],
   "source": [
    "L = 32\n",
    "k = 0.3\n",
    "l = 0.02\n",
    "\n",
    "phi = np.random.randn(L,L)\n",
    "S = get_action(phi, k, l)"
   ]
  },
  {
   "cell_type": "code",
   "execution_count": 48,
   "metadata": {
    "ExecuteTime": {
     "end_time": "2022-03-09T17:43:17.948784Z",
     "start_time": "2022-03-09T17:43:17.937351Z"
    }
   },
   "outputs": [
    {
     "data": {
      "text/plain": [
       "2203.76619055916"
      ]
     },
     "execution_count": 48,
     "metadata": {},
     "output_type": "execute_result"
    }
   ],
   "source": [
    "get_action(phi, 1, 2)"
   ]
  },
  {
   "cell_type": "code",
   "execution_count": 49,
   "metadata": {
    "ExecuteTime": {
     "end_time": "2022-03-09T17:43:35.906451Z",
     "start_time": "2022-03-09T17:43:35.896064Z"
    }
   },
   "outputs": [
    {
     "data": {
      "text/plain": [
       "(32, 32)"
      ]
     },
     "execution_count": 49,
     "metadata": {},
     "output_type": "execute_result"
    }
   ],
   "source": [
    "get_action_2(phi).shape"
   ]
  },
  {
   "cell_type": "code",
   "execution_count": 72,
   "metadata": {
    "ExecuteTime": {
     "end_time": "2022-03-09T17:52:22.819814Z",
     "start_time": "2022-03-09T17:52:22.799511Z"
    }
   },
   "outputs": [
    {
     "data": {
      "text/plain": [
       "array([[-0.03725215, -0.64685295,  0.82265174, ..., -0.64714611,\n",
       "         0.31859935,  1.54387716],\n",
       "       [-0.44799597, -1.9058887 ,  1.88256238, ..., -1.15494848,\n",
       "         0.92863015,  0.86711151],\n",
       "       [ 1.11916673, -0.72405492,  0.53683863, ..., -1.43018271,\n",
       "        -4.00484668, -0.5427426 ],\n",
       "       ...,\n",
       "       [ 1.29307605,  1.36697425, -1.42747103, ...,  1.62638924,\n",
       "        -0.21273222, -2.49358609],\n",
       "       [ 0.31921113, -3.07040101,  2.12849436, ..., -2.55457178,\n",
       "        -1.34999648,  3.51027633],\n",
       "       [-3.50175229,  1.92835474,  2.31616756, ...,  2.57902566,\n",
       "         0.7077184 , -1.37841969]])"
      ]
     },
     "execution_count": 72,
     "metadata": {},
     "output_type": "execute_result"
    }
   ],
   "source": [
    "get_action_grad(phi,k,l)"
   ]
  },
  {
   "cell_type": "code",
   "execution_count": 71,
   "metadata": {
    "ExecuteTime": {
     "end_time": "2022-03-09T17:52:15.512892Z",
     "start_time": "2022-03-09T17:52:15.498871Z"
    }
   },
   "outputs": [
    {
     "data": {
      "text/plain": [
       "array([[ 0.03725215,  0.64685295, -0.82265174, ...,  0.64714611,\n",
       "        -0.31859935, -1.54387716],\n",
       "       [ 0.44799597,  1.9058887 , -1.88256238, ...,  1.15494848,\n",
       "        -0.92863015, -0.86711151],\n",
       "       [-1.11916673,  0.72405492, -0.53683863, ...,  1.43018271,\n",
       "         4.00484668,  0.5427426 ],\n",
       "       ...,\n",
       "       [-1.29307605, -1.36697425,  1.42747103, ..., -1.62638924,\n",
       "         0.21273222,  2.49358609],\n",
       "       [-0.31921113,  3.07040101, -2.12849436, ...,  2.55457178,\n",
       "         1.34999648, -3.51027633],\n",
       "       [ 3.50175229, -1.92835474, -2.31616756, ..., -2.57902566,\n",
       "        -0.7077184 ,  1.37841969]])"
      ]
     },
     "execution_count": 71,
     "metadata": {},
     "output_type": "execute_result"
    }
   ],
   "source": [
    "get_drift(phi,k,l)"
   ]
  },
  {
   "cell_type": "code",
   "execution_count": 65,
   "metadata": {
    "ExecuteTime": {
     "end_time": "2022-03-09T17:50:28.753322Z",
     "start_time": "2022-03-09T17:50:28.737626Z"
    }
   },
   "outputs": [
    {
     "data": {
      "text/plain": [
       "(32, 32)"
      ]
     },
     "execution_count": 65,
     "metadata": {},
     "output_type": "execute_result"
    }
   ],
   "source": [
    "get_action_grad(phi,k,l).shape"
   ]
  },
  {
   "cell_type": "code",
   "execution_count": 74,
   "metadata": {
    "ExecuteTime": {
     "end_time": "2022-03-09T17:53:31.468661Z",
     "start_time": "2022-03-09T17:52:45.730313Z"
    },
    "scrolled": true
   },
   "outputs": [
    {
     "name": "stderr",
     "output_type": "stream",
     "text": [
      "100%|█████████████████████████████████████████████████████████████████████████████████████████████████████████████████████████████████████| 1000/1000 [00:45<00:00, 21.87it/s]\n"
     ]
    }
   ],
   "source": [
    "for _ in tqdm(range(1000)):\n",
    "    phi, S, accepted = hmc(phi, S, k, l)"
   ]
  },
  {
   "cell_type": "code",
   "execution_count": 75,
   "metadata": {
    "ExecuteTime": {
     "end_time": "2022-03-09T18:01:21.541089Z",
     "start_time": "2022-03-09T17:53:54.916536Z"
    }
   },
   "outputs": [
    {
     "name": "stderr",
     "output_type": "stream",
     "text": [
      "100%|███████████████████████████████████████████████████████████████████████████████████████████████████████████████████████████████████| 10000/10000 [07:26<00:00, 22.39it/s]\n"
     ]
    }
   ],
   "source": [
    "cfgs = []\n",
    "\n",
    "for i in tqdm(range(10000)):\n",
    "    phi, S, accepted = hmc(phi, S, k, l)\n",
    "    \n",
    "    if i % 10 == 0:\n",
    "        cfgs.append(copy.deepcopy(phi))\n",
    "        \n",
    "cfgs = np.array(cfgs)"
   ]
  },
  {
   "cell_type": "code",
   "execution_count": 76,
   "metadata": {
    "ExecuteTime": {
     "end_time": "2022-03-09T18:02:29.119179Z",
     "start_time": "2022-03-09T18:02:29.106801Z"
    }
   },
   "outputs": [],
   "source": [
    "def jackknife(samples: np.ndarray):\n",
    "    \"\"\"Return mean and estimated lower error bound.\"\"\"\n",
    "    means = []\n",
    "\n",
    "    for i in range(samples.shape[0]):\n",
    "        means.append(np.delete(samples, i, axis=0).mean(axis=0))\n",
    "\n",
    "    means = np.asarray(means)\n",
    "    mean = means.mean(axis=0)\n",
    "    error = np.sqrt((samples.shape[0] - 1) * np.mean(np.square(means - mean), axis=0))\n",
    "    \n",
    "    return mean, error"
   ]
  },
  {
   "cell_type": "code",
   "execution_count": 77,
   "metadata": {
    "ExecuteTime": {
     "end_time": "2022-03-09T18:02:29.356341Z",
     "start_time": "2022-03-09T18:02:29.316048Z"
    }
   },
   "outputs": [],
   "source": [
    "def get_mag(cfgs: np.ndarray):\n",
    "    \"\"\"Return mean and error of magnetization.\"\"\"\n",
    "    axis = tuple([i+1 for i in range(len(cfgs.shape)-1)])\n",
    "    return jackknife(cfgs.mean(axis=axis))\n",
    "\n",
    "def get_abs_mag(cfgs: np.ndarray):\n",
    "    \"\"\"Return mean and error of absolute magnetization.\"\"\"\n",
    "    axis = tuple([i+1 for i in range(len(cfgs.shape)-1)])\n",
    "    return jackknife(np.abs(cfgs.mean(axis=axis)))\n",
    "\n",
    "def get_chi2(cfgs: np.ndarray):\n",
    "    \"\"\"Return mean and error of suceptibility.\"\"\"\n",
    "    V = np.prod(cfgs.shape[1:])\n",
    "    axis = tuple([i+1 for i in range(len(cfgs.shape)-1)])\n",
    "    mags = cfgs.mean(axis=axis)\n",
    "    return jackknife(V * (mags**2 - mags.mean()**2))\n",
    "\n",
    "def get_corr_func(cfgs: np.ndarray):\n",
    "    \"\"\"Return connected two-point correlation function with errors for symmetric lattices.\"\"\"\n",
    "    mag_sq = np.mean(cfgs)**2\n",
    "    corr_func = []\n",
    "    axis = tuple([i+1 for i in range(len(cfgs.shape)-1)])\n",
    "\n",
    "    for i in range(1, cfgs.shape[1], 1):\n",
    "        corrs = []\n",
    "\n",
    "        for mu in range(len(cfgs.shape)-1):\n",
    "            corrs.append(np.mean(cfgs * np.roll(cfgs, i, mu+1), axis=axis))\n",
    "\n",
    "        corrs = np.array(corrs).mean(axis=0)\n",
    "        corr_mean, corr_err = jackknife(corrs - mag_sq)\n",
    "        corr_func.append([i, corr_mean, corr_err])\n",
    "\n",
    "    return np.array(corr_func)"
   ]
  },
  {
   "cell_type": "code",
   "execution_count": 78,
   "metadata": {
    "ExecuteTime": {
     "end_time": "2022-03-09T18:02:31.162182Z",
     "start_time": "2022-03-09T18:02:31.009577Z"
    }
   },
   "outputs": [
    {
     "name": "stdout",
     "output_type": "stream",
     "text": [
      "M = -2.1961 +/- 0.0013\n",
      "|M| = 2.1961 +/- 0.0013\n",
      "chi2 = 1.6196 +/- 5.6524\n"
     ]
    }
   ],
   "source": [
    "M, M_err = get_mag(cfgs)\n",
    "M_abs, M_abs_err = get_abs_mag(cfgs)\n",
    "chi2, chi2_err = get_chi2(cfgs)\n",
    "\n",
    "print(\"M = %.4f +/- %.4f\" % (M, M_err))\n",
    "print(\"|M| = %.4f +/- %.4f\" % (M_abs, M_abs_err))\n",
    "print(\"chi2 = %.4f +/- %.4f\" % (chi2, chi2_err))"
   ]
  },
  {
   "cell_type": "code",
   "execution_count": 79,
   "metadata": {
    "ExecuteTime": {
     "end_time": "2022-03-09T18:02:38.028386Z",
     "start_time": "2022-03-09T18:02:37.312165Z"
    }
   },
   "outputs": [
    {
     "data": {
      "image/png": "[encoded data removed]",
      "text/plain": [
       "<Figure size 1000x1000 with 1 Axes>"
      ]
     },
     "metadata": {},
     "output_type": "display_data"
    }
   ],
   "source": [
    "corr_func = get_corr_func(cfgs)\n",
    "\n",
    "fig, ax = plt.subplots(1,1, dpi=125, figsize=(8,8))\n",
    "plt.xticks([i for i in range(1, L, 4)])\n",
    "ax.errorbar(corr_func[:,0], corr_func[:,1], yerr=corr_func[:,2], label='2-point correlator')\n",
    "plt.legend(prop={'size': 16})\n",
    "plt.show()"
   ]
  },
  {
   "cell_type": "code",
   "execution_count": null,
   "metadata": {},
   "outputs": [],
   "source": []
  }
 ],
 "metadata": {
  "kernelspec": {
   "display_name": "Python 3 (ipykernel)",
   "language": "python",
   "name": "python3"
  },
  "language_info": {
   "codemirror_mode": {
    "name": "ipython",
    "version": 3
   },
   "file_extension": ".py",
   "mimetype": "text/x-python",
   "name": "python",
   "nbconvert_exporter": "python",
   "pygments_lexer": "ipython3",
   "version": "3.9.6"
  },
  "toc": {
   "base_numbering": 1,
   "nav_menu": {},
   "number_sections": true,
   "sideBar": true,
   "skip_h1_title": false,
   "title_cell": "Table of Contents",
   "title_sidebar": "Contents",
   "toc_cell": false,
   "toc_position": {},
   "toc_section_display": true,
   "toc_window_display": false
  }
 },
 "nbformat": 4,
 "nbformat_minor": 2
}
