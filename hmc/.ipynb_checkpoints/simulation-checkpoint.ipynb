{
 "cells": [
  {
   "cell_type": "code",
   "execution_count": 1,
   "metadata": {
    "ExecuteTime": {
     "end_time": "2022-03-09T17:14:17.552580Z",
     "start_time": "2022-03-09T17:14:16.855511Z"
    }
   },
   "outputs": [],
   "source": [
    "import numpy as np\n",
    "import copy\n",
    "from tqdm import tqdm\n",
    "from autograd import jacobian\n",
    "\n",
    "%matplotlib inline\n",
    "import matplotlib.pyplot as plt\n",
    "import seaborn as sns\n",
    "sns.set_style('whitegrid')"
   ]
  },
  {
   "cell_type": "code",
   "execution_count": 4,
   "metadata": {
    "ExecuteTime": {
     "end_time": "2022-03-09T17:15:06.451643Z",
     "start_time": "2022-03-09T17:15:06.435414Z"
    }
   },
   "outputs": [],
   "source": [
    "def get_action(phi, k, l):\n",
    "    return np.sum(-2 * k * phi * (np.roll(phi, 1, 0) + np.roll(phi, 1, 1))\n",
    "                  + (1 - 2 * l) * phi**2 + l * phi**4)\n",
    "\n",
    "def get_drift(phi, k, l):\n",
    "    return (2 * k * (np.roll(phi, 1, 0) + np.roll(phi, -1, 0)\n",
    "                     + np.roll(phi, 1, 1) + np.roll(phi, -1, 1))\n",
    "            + 2 * phi * (2 * l * (1 - phi**2) - 1))\n",
    "\n",
    "def get_hamiltonian(chi, action):\n",
    "    return 0.5 * np.sum(chi**2) + action\n",
    "\n",
    "get_action_grad = jacobian(get_action)"
   ]
  },
  {
   "cell_type": "code",
   "execution_count": 7,
   "metadata": {
    "ExecuteTime": {
     "end_time": "2022-03-08T10:34:45.847440Z",
     "start_time": "2022-03-08T10:34:45.832130Z"
    }
   },
   "outputs": [],
   "source": [
    "def hmc(phi_0, S_0, k, l, n_steps=100):\n",
    "    dt = 1 / n_steps\n",
    "\n",
    "    phi = phi_0\n",
    "    chi = np.random.randn(*phi.shape)\n",
    "    H_0 = get_hamiltonian(chi, S_0)\n",
    "\n",
    "    chi += 0.5 * dt * get_drift(phi, k, l)\n",
    "    for i in range(n_steps-1):\n",
    "        phi += dt * chi\n",
    "        chi += dt * get_action_grad(phi, k, l)\n",
    "    phi += dt * chi\n",
    "    chi += 0.5 * dt * get_drift(phi, k, l)\n",
    "\n",
    "    S = get_action(phi, k, l)\n",
    "    dH = get_hamiltonian(chi, S) - H_0\n",
    "\n",
    "    if dH > 0:\n",
    "        if np.random.rand() >= np.exp(-dH):\n",
    "            return phi_0, S_0, False\n",
    "    return phi, S, True"
   ]
  },
  {
   "cell_type": "code",
   "execution_count": 8,
   "metadata": {
    "ExecuteTime": {
     "end_time": "2022-03-08T10:34:48.145718Z",
     "start_time": "2022-03-08T10:34:48.138714Z"
    }
   },
   "outputs": [],
   "source": [
    "L = 32\n",
    "k = 0.3\n",
    "l = 0.02\n",
    "\n",
    "phi = np.random.randn(L,L)\n",
    "S = get_action(phi, k, l)"
   ]
  },
  {
   "cell_type": "code",
   "execution_count": 9,
   "metadata": {
    "ExecuteTime": {
     "end_time": "2022-03-08T10:35:16.828829Z",
     "start_time": "2022-03-08T10:35:09.768228Z"
    }
   },
   "outputs": [
    {
     "name": "stderr",
     "output_type": "stream",
     "text": [
      "100%|██████████| 1000/1000 [00:07<00:00, 142.10it/s]\n"
     ]
    }
   ],
   "source": [
    "for _ in tqdm(range(1000)):\n",
    "    phi, S, accepted = hmc(phi, S, k, l)"
   ]
  },
  {
   "cell_type": "code",
   "execution_count": 10,
   "metadata": {
    "ExecuteTime": {
     "end_time": "2022-03-08T10:36:33.467513Z",
     "start_time": "2022-03-08T10:35:19.627390Z"
    }
   },
   "outputs": [
    {
     "name": "stderr",
     "output_type": "stream",
     "text": [
      "100%|██████████| 10000/10000 [01:13<00:00, 135.45it/s]\n"
     ]
    }
   ],
   "source": [
    "cfgs = []\n",
    "\n",
    "for i in tqdm(range(10000)):\n",
    "    phi, S, accepted = hmc(phi, S, k, l)\n",
    "    \n",
    "    if i % 10 == 0:\n",
    "        cfgs.append(copy.deepcopy(phi))\n",
    "        \n",
    "cfgs = np.array(cfgs)"
   ]
  },
  {
   "cell_type": "code",
   "execution_count": 11,
   "metadata": {
    "ExecuteTime": {
     "end_time": "2022-03-08T10:36:37.866221Z",
     "start_time": "2022-03-08T10:36:37.862770Z"
    }
   },
   "outputs": [],
   "source": [
    "def jackknife(samples: np.ndarray):\n",
    "    \"\"\"Return mean and estimated lower error bound.\"\"\"\n",
    "    means = []\n",
    "\n",
    "    for i in range(samples.shape[0]):\n",
    "        means.append(np.delete(samples, i, axis=0).mean(axis=0))\n",
    "\n",
    "    means = np.asarray(means)\n",
    "    mean = means.mean(axis=0)\n",
    "    error = np.sqrt((samples.shape[0] - 1) * np.mean(np.square(means - mean), axis=0))\n",
    "    \n",
    "    return mean, error"
   ]
  },
  {
   "cell_type": "code",
   "execution_count": 32,
   "metadata": {
    "ExecuteTime": {
     "end_time": "2022-03-08T10:41:25.246815Z",
     "start_time": "2022-03-08T10:41:25.220482Z"
    }
   },
   "outputs": [],
   "source": [
    "def get_mag(cfgs: np.ndarray):\n",
    "    \"\"\"Return mean and error of magnetization.\"\"\"\n",
    "    axis = tuple([i+1 for i in range(len(cfgs.shape)-1)])\n",
    "    return jackknife(cfgs.mean(axis=axis))\n",
    "\n",
    "def get_abs_mag(cfgs: np.ndarray):\n",
    "    \"\"\"Return mean and error of absolute magnetization.\"\"\"\n",
    "    axis = tuple([i+1 for i in range(len(cfgs.shape)-1)])\n",
    "    return jackknife(np.abs(cfgs.mean(axis=axis)))\n",
    "\n",
    "def get_chi2(cfgs: np.ndarray):\n",
    "    \"\"\"Return mean and error of suceptibility.\"\"\"\n",
    "    V = np.prod(cfgs.shape[1:])\n",
    "    axis = tuple([i+1 for i in range(len(cfgs.shape)-1)])\n",
    "    mags = cfgs.mean(axis=axis)\n",
    "    return jackknife(V * (mags**2 - mags.mean()**2))\n",
    "\n",
    "def get_corr_func(cfgs: np.ndarray):\n",
    "    \"\"\"Return connected two-point correlation function with errors for symmetric lattices.\"\"\"\n",
    "    mag_sq = np.mean(cfgs)**2\n",
    "    corr_func = []\n",
    "    axis = tuple([i+1 for i in range(len(cfgs.shape)-1)])\n",
    "\n",
    "    for i in range(1, cfgs.shape[1], 1):\n",
    "        corrs = []\n",
    "\n",
    "        for mu in range(len(cfgs.shape)-1):\n",
    "            corrs.append(np.mean(cfgs * np.roll(cfgs, i, mu+1), axis=axis))\n",
    "\n",
    "        corrs = np.array(corrs).mean(axis=0)\n",
    "        corr_mean, corr_err = jackknife(corrs - mag_sq)\n",
    "        corr_func.append([i, corr_mean, corr_err])\n",
    "\n",
    "    return np.array(corr_func)"
   ]
  },
  {
   "cell_type": "code",
   "execution_count": 63,
   "metadata": {
    "ExecuteTime": {
     "end_time": "2022-03-08T14:34:22.646509Z",
     "start_time": "2022-03-08T14:34:22.506115Z"
    }
   },
   "outputs": [
    {
     "name": "stdout",
     "output_type": "stream",
     "text": [
      "M = 2.1918 +/- 0.0012\n",
      "|M| = 2.1918 +/- 0.0012\n",
      "chi2 = 1.5251 +/- 5.4756\n"
     ]
    }
   ],
   "source": [
    "M, M_err = get_mag(cfgs)\n",
    "M_abs, M_abs_err = get_abs_mag(cfgs)\n",
    "chi2, chi2_err = get_chi2(cfgs)\n",
    "\n",
    "print(\"M = %.4f +/- %.4f\" % (M, M_err))\n",
    "print(\"|M| = %.4f +/- %.4f\" % (M_abs, M_abs_err))\n",
    "print(\"chi2 = %.4f +/- %.4f\" % (chi2, chi2_err))"
   ]
  },
  {
   "cell_type": "code",
   "execution_count": 34,
   "metadata": {
    "ExecuteTime": {
     "end_time": "2022-03-08T10:41:27.323410Z",
     "start_time": "2022-03-08T10:41:26.517447Z"
    }
   },
   "outputs": [
    {
     "data": {
      "image/png": "[encoded data removed]",
      "text/plain": [
       "<Figure size 1000x1000 with 1 Axes>"
      ]
     },
     "metadata": {},
     "output_type": "display_data"
    }
   ],
   "source": [
    "corr_func = get_corr_func(cfgs)\n",
    "\n",
    "fig, ax = plt.subplots(1,1, dpi=125, figsize=(8,8))\n",
    "plt.xticks([i for i in range(1, L, 4)])\n",
    "ax.errorbar(corr_func[:,0], corr_func[:,1], yerr=corr_func[:,2], label='2-point correlator')\n",
    "plt.legend(prop={'size': 16})\n",
    "plt.show()"
   ]
  },
  {
   "cell_type": "code",
   "execution_count": null,
   "metadata": {},
   "outputs": [],
   "source": []
  }
 ],
 "metadata": {
  "kernelspec": {
   "display_name": "Python 3 (ipykernel)",
   "language": "python",
   "name": "python3"
  },
  "language_info": {
   "codemirror_mode": {
    "name": "ipython",
    "version": 3
   },
   "file_extension": ".py",
   "mimetype": "text/x-python",
   "name": "python",
   "nbconvert_exporter": "python",
   "pygments_lexer": "ipython3",
   "version": "3.9.6"
  },
  "toc": {
   "base_numbering": 1,
   "nav_menu": {},
   "number_sections": true,
   "sideBar": true,
   "skip_h1_title": false,
   "title_cell": "Table of Contents",
   "title_sidebar": "Contents",
   "toc_cell": false,
   "toc_position": {},
   "toc_section_display": true,
   "toc_window_display": false
  }
 },
 "nbformat": 4,
 "nbformat_minor": 2
}
